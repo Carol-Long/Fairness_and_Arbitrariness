{
 "cells": [
  {
   "cell_type": "code",
   "execution_count": 1,
   "metadata": {},
   "outputs": [
    {
     "name": "stdout",
     "output_type": "stream",
     "text": [
      "(10, 7500, 1)\n"
     ]
    }
   ],
   "source": [
    "import pickle\n",
    "import numpy as np\n",
    "with open('results/scores_eqodds_rf_s33_itr10_.pkl', \"rb\") as fb:\n",
    "    pkl_test = pickle.load(fb)\n",
    "print(np.array(pkl_test).shape)"
   ]
  },
  {
   "cell_type": "code",
   "execution_count": 2,
   "metadata": {},
   "outputs": [
    {
     "name": "stdout",
     "output_type": "stream",
     "text": [
      "[[0.61077943]\n",
      " [0.20116416]\n",
      " [0.51200242]\n",
      " ...\n",
      " [0.2883068 ]\n",
      " [0.40429118]\n",
      " [0.60821022]]\n",
      "7500\n"
     ]
    }
   ],
   "source": [
    "print(pkl_test[0])\n",
    "print(len(pkl_test[0]))"
   ]
  },
  {
   "cell_type": "code",
   "execution_count": 3,
   "metadata": {},
   "outputs": [
    {
     "name": "stdout",
     "output_type": "stream",
     "text": [
      "(10, 7500, 1)\n",
      "(10, 7500, 1)\n",
      "(10, 7500, 1)\n",
      "(10, 7500, 1)\n",
      "(10, 7500, 1)\n",
      "(10, 7500, 1)\n",
      "(10, 7500, 1)\n",
      "(10, 7500, 1)\n",
      "(10, 7500, 1)\n",
      "(10, 7500, 1)\n"
     ]
    }
   ],
   "source": [
    "with open('results/scores_roc_rf_s33_itr10_eo.pkl', \"rb\") as fb:\n",
    "    pkl_test = pickle.load(fb)\n",
    "for key in pkl_test.keys():\n",
    "    print(np.array(pkl_test[key]).shape)"
   ]
  },
  {
   "cell_type": "code",
   "execution_count": 4,
   "metadata": {},
   "outputs": [
    {
     "name": "stdout",
     "output_type": "stream",
     "text": [
      "(10, 7500, 1)\n",
      "(10, 7500, 1)\n",
      "(10, 7500, 1)\n",
      "(10, 7500, 1)\n",
      "(10, 7500, 1)\n",
      "(10, 7500, 1)\n",
      "(10, 7500, 1)\n",
      "(10, 7500, 1)\n"
     ]
    }
   ],
   "source": [
    "with open('results/scores_reduction_rf_s33_itr10_eo.pkl', \"rb\") as fb:\n",
    "    pkl_test = pickle.load(fb)\n",
    "for key in pkl_test.keys():\n",
    "    print(np.array(pkl_test[key]).shape)"
   ]
  },
  {
   "cell_type": "code",
   "execution_count": 5,
   "metadata": {},
   "outputs": [
    {
     "name": "stdout",
     "output_type": "stream",
     "text": [
      "dict_keys([0.1, 1, 4, 6, 8, 9, 10, 12])\n"
     ]
    }
   ],
   "source": [
    "print(pkl_test.keys())"
   ]
  },
  {
   "cell_type": "code",
   "execution_count": 6,
   "metadata": {},
   "outputs": [
    {
     "name": "stdout",
     "output_type": "stream",
     "text": [
      "(10, 7500, 1)\n"
     ]
    }
   ],
   "source": [
    "with open('results/scores_leveraging_rf_s33_itr10_eo.pkl', \"rb\") as fb:\n",
    "    pkl_test = pickle.load(fb)\n",
    "print(np.array(pkl_test).shape)\n"
   ]
  },
  {
   "cell_type": "code",
   "execution_count": 7,
   "metadata": {},
   "outputs": [
    {
     "name": "stdout",
     "output_type": "stream",
     "text": [
      "[[1.]\n",
      " [0.]\n",
      " [1.]\n",
      " ...\n",
      " [0.]\n",
      " [0.]\n",
      " [1.]]\n"
     ]
    }
   ],
   "source": [
    "print(pkl_test[0])"
   ]
  },
  {
   "cell_type": "code",
   "execution_count": 8,
   "metadata": {},
   "outputs": [
    {
     "name": "stdout",
     "output_type": "stream",
     "text": [
      "(10, 7500, 1)\n"
     ]
    }
   ],
   "source": [
    "with open('results/scores_original_rf_s33_itr10_.pkl', \"rb\") as fb:\n",
    "    pkl_test = pickle.load(fb)\n",
    "print(np.array(pkl_test).shape)"
   ]
  },
  {
   "cell_type": "code",
   "execution_count": 9,
   "metadata": {},
   "outputs": [
    {
     "name": "stdout",
     "output_type": "stream",
     "text": [
      "[[0.6332629 ]\n",
      " [0.11957689]\n",
      " [0.69633598]\n",
      " ...\n",
      " [0.28910358]\n",
      " [0.46879998]\n",
      " [0.63118093]]\n"
     ]
    }
   ],
   "source": [
    "print(pkl_test[0])"
   ]
  },
  {
   "attachments": {},
   "cell_type": "markdown",
   "metadata": {},
   "source": [
    "## Validation files"
   ]
  },
  {
   "cell_type": "code",
   "execution_count": 10,
   "metadata": {},
   "outputs": [
    {
     "name": "stdout",
     "output_type": "stream",
     "text": [
      "(10, 7500, 1)\n"
     ]
    }
   ],
   "source": [
    "import pickle\n",
    "import numpy as np\n",
    "with open('results/valid_scores_eqodds_rf_s33_itr10_.pkl', \"rb\") as fb:\n",
    "    pkl_test = pickle.load(fb)\n",
    "print(np.array(pkl_test).shape)"
   ]
  },
  {
   "cell_type": "code",
   "execution_count": 12,
   "metadata": {},
   "outputs": [
    {
     "name": "stdout",
     "output_type": "stream",
     "text": [
      "[[0.68205972]\n",
      " [0.45313406]\n",
      " [0.29110837]\n",
      " ...\n",
      " [0.34280013]\n",
      " [0.77969397]\n",
      " [0.7892821 ]]\n"
     ]
    }
   ],
   "source": [
    "print(pkl_test[0])"
   ]
  },
  {
   "cell_type": "code",
   "execution_count": 13,
   "metadata": {},
   "outputs": [
    {
     "name": "stdout",
     "output_type": "stream",
     "text": [
      "(10, 7500, 1)\n"
     ]
    }
   ],
   "source": [
    "import pickle\n",
    "import numpy as np\n",
    "with open('results/valid_scores_original_rf_s33_itr10_.pkl', \"rb\") as fb:\n",
    "    pkl_test = pickle.load(fb)\n",
    "print(np.array(pkl_test).shape)"
   ]
  },
  {
   "cell_type": "code",
   "execution_count": 14,
   "metadata": {},
   "outputs": [
    {
     "name": "stdout",
     "output_type": "stream",
     "text": [
      "[[0.64024338]\n",
      " [0.50571253]\n",
      " [0.31047436]\n",
      " ...\n",
      " [0.29576181]\n",
      " [0.70169933]\n",
      " [0.68993724]]\n"
     ]
    }
   ],
   "source": [
    "print(pkl_test[0])"
   ]
  },
  {
   "cell_type": "code",
   "execution_count": 47,
   "metadata": {},
   "outputs": [
    {
     "name": "stdout",
     "output_type": "stream",
     "text": [
      "(1, 2176, 1)\n"
     ]
    }
   ],
   "source": [
    "with open('results/valid_scores_leveraging_rf_s0_itr1_eo.pkl', \"rb\") as fb:\n",
    "    pkl_test = pickle.load(fb)\n",
    "print(np.array(pkl_test).shape)"
   ]
  },
  {
   "cell_type": "code",
   "execution_count": 51,
   "metadata": {},
   "outputs": [
    {
     "name": "stdout",
     "output_type": "stream",
     "text": [
      "(1, 2176, 1)\n",
      "(1, 2176, 1)\n",
      "(1, 2176, 1)\n",
      "(1, 2176, 1)\n",
      "(1, 2176, 1)\n",
      "(1, 2176, 1)\n",
      "(1, 2176, 1)\n",
      "(1, 2176, 1)\n",
      "(1, 2176, 1)\n",
      "(1, 2176, 1)\n"
     ]
    }
   ],
   "source": [
    "with open('results/valid_scores_roc_rf_s0_itr1_eo.pkl', \"rb\") as fb:\n",
    "    pkl_test = pickle.load(fb)\n",
    "for key in pkl_test.keys():\n",
    "    print(np.array(pkl_test[key]).shape)"
   ]
  },
  {
   "cell_type": "code",
   "execution_count": 52,
   "metadata": {},
   "outputs": [
    {
     "name": "stdout",
     "output_type": "stream",
     "text": [
      "(1, 2176, 1)\n",
      "(1, 2176, 1)\n",
      "(1, 2176, 1)\n",
      "(1, 2176, 1)\n",
      "(1, 2176, 1)\n",
      "(1, 2176, 1)\n",
      "(1, 2176, 1)\n",
      "(1, 2176, 1)\n",
      "(1, 2176, 1)\n",
      "(1, 2176, 1)\n"
     ]
    }
   ],
   "source": [
    "with open('results/valid_scores_reduction_rf_s0_itr1_eo.pkl', \"rb\") as fb:\n",
    "    pkl_test = pickle.load(fb)\n",
    "for key in pkl_test.keys():\n",
    "    print(np.array(pkl_test[key]).shape)"
   ]
  },
  {
   "cell_type": "code",
   "execution_count": 53,
   "metadata": {},
   "outputs": [
    {
     "name": "stdout",
     "output_type": "stream",
     "text": [
      "[[0.38411569]\n",
      " [0.        ]\n",
      " [1.        ]\n",
      " ...\n",
      " [0.        ]\n",
      " [0.38411569]\n",
      " [1.        ]]\n"
     ]
    }
   ],
   "source": [
    "print(pkl_test[0.001][0])"
   ]
  },
  {
   "cell_type": "code",
   "execution_count": 54,
   "metadata": {},
   "outputs": [
    {
     "name": "stdout",
     "output_type": "stream",
     "text": [
      "(3,)\n"
     ]
    }
   ],
   "source": [
    "with open('results/valid_scores_mp_rf_s42_itr3_eo.pkl', \"rb\") as fb:\n",
    "    pkl_test = pickle.load(fb)\n",
    "print(np.array(pkl_test).shape)"
   ]
  },
  {
   "cell_type": "code",
   "execution_count": 57,
   "metadata": {},
   "outputs": [
    {
     "name": "stdout",
     "output_type": "stream",
     "text": [
      "[0.39531112 0.14224639 0.83521051 ... 0.09254482 0.39404822 0.93200743]\n",
      "[0.39588149 0.14263215 0.83534686 ... 0.09206994 0.39311419 0.93204966]\n",
      "[0.39800567 0.14408617 0.83583682 ... 0.09035255 0.38970562 0.93219836]\n"
     ]
    }
   ],
   "source": [
    "for key in pkl_test[0].keys():\n",
    "    print(np.array(pkl_test[0][key]))"
   ]
  },
  {
   "cell_type": "markdown",
   "metadata": {},
   "source": []
  }
 ],
 "metadata": {
  "kernelspec": {
   "display_name": "base",
   "language": "python",
   "name": "python3"
  },
  "language_info": {
   "codemirror_mode": {
    "name": "ipython",
    "version": 3
   },
   "file_extension": ".py",
   "mimetype": "text/x-python",
   "name": "python",
   "nbconvert_exporter": "python",
   "pygments_lexer": "ipython3",
   "version": "3.10.11"
  },
  "orig_nbformat": 4
 },
 "nbformat": 4,
 "nbformat_minor": 2
}
